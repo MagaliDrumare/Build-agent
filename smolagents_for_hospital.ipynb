{
  "nbformat": 4,
  "nbformat_minor": 0,
  "metadata": {
    "colab": {
      "private_outputs": true,
      "provenance": [],
      "authorship_tag": "ABX9TyPlULxe73dJdte1frTGjagH",
      "include_colab_link": true
    },
    "kernelspec": {
      "name": "python3",
      "display_name": "Python 3"
    },
    "language_info": {
      "name": "python"
    }
  },
  "cells": [
    {
      "cell_type": "markdown",
      "metadata": {
        "id": "view-in-github",
        "colab_type": "text"
      },
      "source": [
        "<a href=\"https://colab.research.google.com/github/MagaliDrumare/Build-agent/blob/main/smolagents_for_hospital.ipynb\" target=\"_parent\"><img src=\"https://colab.research.google.com/assets/colab-badge.svg\" alt=\"Open In Colab\"/></a>"
      ]
    },
    {
      "cell_type": "code",
      "source": [
        "!pip install smolagents"
      ],
      "metadata": {
        "id": "vCrMPTxwsff-"
      },
      "execution_count": null,
      "outputs": []
    },
    {
      "cell_type": "code",
      "source": [
        "from huggingface_hub import notebook_login\n",
        "\n",
        "notebook_login()"
      ],
      "metadata": {
        "id": "6nUPySLgtAuE"
      },
      "execution_count": null,
      "outputs": []
    },
    {
      "cell_type": "code",
      "execution_count": null,
      "metadata": {
        "id": "vtPEJ-rzsdb_"
      },
      "outputs": [],
      "source": [
        "from smolagents import CodeAgent, HfApiModel, tool\n",
        "\n",
        "# Tool to find the best hospital for liver operations\n",
        "@tool\n",
        "def liver_operation_hospital_tool(query: str) -> str:\n",
        "    \"\"\"\n",
        "    This tool returns the highest-rated hospital for liver operations.\n",
        "\n",
        "    Args:\n",
        "        query: A search term for finding hospitals specializing in liver operations.\n",
        "    \"\"\"\n",
        "    # Fake data for hospitals and their ratings for liver operations\n",
        "    hospitals = {\n",
        "        \"City Medical Center\": 4.9,\n",
        "        \"University Hospital\": 4.8,\n",
        "        \"Memorial Transplant Institute\": 4.95,\n",
        "        \"Regional Liver Center\": 4.7,\n",
        "        \"Metropolitan Surgical Hospital\": 4.6\n",
        "    }\n",
        "\n",
        "    # Also include success rates for liver operations (percentage)\n",
        "    success_rates = {\n",
        "        \"City Medical Center\": 92.3,\n",
        "        \"University Hospital\": 91.8,\n",
        "        \"Memorial Transplant Institute\": 94.1,\n",
        "        \"Regional Liver Center\": 89.5,\n",
        "        \"Metropolitan Surgical Hospital\": 88.2\n",
        "    }\n",
        "\n",
        "    # Annual liver operation volume\n",
        "    operation_volume = {\n",
        "        \"City Medical Center\": 215,\n",
        "        \"University Hospital\": 189,\n",
        "        \"Memorial Transplant Institute\": 247,\n",
        "        \"Regional Liver Center\": 156,\n",
        "        \"Metropolitan Surgical Hospital\": 142\n",
        "    }\n",
        "\n",
        "    # Find the highest rated hospital (based on rating, but we could use a combined metric)\n",
        "    best_hospital = max(hospitals, key=hospitals.get)\n",
        "\n",
        "    # Return detailed information about the best hospital\n",
        "    return f\"{best_hospital} (Rating: {hospitals[best_hospital]}/5.0, Success Rate: {success_rates[best_hospital]}%, Annual Operations: {operation_volume[best_hospital]})\"\n",
        "\n",
        "\n",
        "agent = CodeAgent(tools=[liver_operation_hospital_tool], model=HfApiModel())\n",
        "\n",
        "# Run the agent to find the best hospital for liver operations\n",
        "result = agent.run(\n",
        "    \"What is the highest-rated hospital for liver operations?\"\n",
        ")\n",
        "\n",
        "print(result)   # Output: Memorial Transplant Institute (Rating: 4.95/5.0, Success Rate: 94.1%, Annual Operations: 247)"
      ]
    }
  ]
}